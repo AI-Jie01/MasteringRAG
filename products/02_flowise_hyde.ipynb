{
 "cells": [
  {
   "cell_type": "code",
   "id": "7cb23ea4-fca4-445f-92a7-5888f1bbe6a1",
   "metadata": {
    "execution": {
     "iopub.execute_input": "2024-11-17T11:01:43.164721Z",
     "iopub.status.busy": "2024-11-17T11:01:43.163967Z",
     "iopub.status.idle": "2024-11-17T11:01:43.173069Z",
     "shell.execute_reply": "2024-11-17T11:01:43.172751Z",
     "shell.execute_reply.started": "2024-11-17T11:01:43.164638Z"
    }
   },
   "source": [
    "%env LLM_BASE_URL=https://dashscope.aliyuncs.com/compatible-mode/v1\n",
    "%env LLM_API_KEY=替换为自己的Qwen API Key，如果不需要评估，则不需要"
   ],
   "outputs": [],
   "execution_count": null
  },
  {
   "cell_type": "code",
   "execution_count": 2,
   "id": "0dc2dd8a-ca1f-44b1-95cb-68d21a407fe0",
   "metadata": {
    "execution": {
     "iopub.execute_input": "2024-11-17T11:01:43.554828Z",
     "iopub.status.busy": "2024-11-17T11:01:43.554424Z",
     "iopub.status.idle": "2024-11-17T11:01:44.061328Z",
     "shell.execute_reply": "2024-11-17T11:01:44.060843Z",
     "shell.execute_reply.started": "2024-11-17T11:01:43.554792Z"
    }
   },
   "outputs": [],
   "source": [
    "import os\n",
    "import pandas as pd\n",
    "from openai import OpenAI"
   ]
  },
  {
   "cell_type": "markdown",
   "id": "318a43db-8b14-455c-b668-3fe1c446214c",
   "metadata": {},
   "source": [
    "# 加载数据"
   ]
  },
  {
   "cell_type": "code",
   "execution_count": 3,
   "id": "81a68698-5063-4302-9524-0c30759813e0",
   "metadata": {
    "execution": {
     "iopub.execute_input": "2024-11-17T11:01:44.619583Z",
     "iopub.status.busy": "2024-11-17T11:01:44.618555Z",
     "iopub.status.idle": "2024-11-17T11:01:44.630290Z",
     "shell.execute_reply": "2024-11-17T11:01:44.627991Z",
     "shell.execute_reply.started": "2024-11-17T11:01:44.619511Z"
    }
   },
   "outputs": [],
   "source": [
    "expr_version = 'product_v02_flowise_hyde'\n",
    "\n",
    "preprocess_output_dir = os.path.join(os.path.pardir, 'outputs', 'v1_20240713')\n",
    "expr_dir = os.path.join(os.path.pardir, 'experiments', expr_version)"
   ]
  },
  {
   "cell_type": "code",
   "execution_count": 4,
   "id": "c47b7af8-b390-420a-8a72-22e52c19861b",
   "metadata": {
    "execution": {
     "iopub.execute_input": "2024-11-17T11:01:44.894070Z",
     "iopub.status.busy": "2024-11-17T11:01:44.893344Z",
     "iopub.status.idle": "2024-11-17T11:01:45.009403Z",
     "shell.execute_reply": "2024-11-17T11:01:45.008860Z",
     "shell.execute_reply.started": "2024-11-17T11:01:44.894000Z"
    }
   },
   "outputs": [],
   "source": [
    "qa_df = pd.read_excel(os.path.join(preprocess_output_dir, 'question_answer.xlsx'))\n",
    "prediction_df = qa_df[qa_df['dataset'] == 'test'][['uuid', 'question', 'qa_type', 'answer']].rename(columns={'answer': 'ref_answer'})"
   ]
  },
  {
   "cell_type": "markdown",
   "id": "eaf2c9aa-a597-47eb-9f6d-6e37ae48d55d",
   "metadata": {},
   "source": [
    "# 调用Flowise API"
   ]
  },
  {
   "cell_type": "code",
   "execution_count": 7,
   "id": "9255751c-9441-497f-b502-27fd362b6471",
   "metadata": {
    "execution": {
     "iopub.execute_input": "2024-11-17T11:02:08.966667Z",
     "iopub.status.busy": "2024-11-17T11:02:08.965876Z",
     "iopub.status.idle": "2024-11-17T11:02:08.969999Z",
     "shell.execute_reply": "2024-11-17T11:02:08.969531Z",
     "shell.execute_reply.started": "2024-11-17T11:02:08.966599Z"
    }
   },
   "outputs": [],
   "source": [
    "import requests\n",
    "\n",
    "API_URL = \"http://192.168.31.92:3000/api/v1/prediction/31731cbf-2dd2-45e4-8b26-a065b6739dcd\"\n",
    "def rag(question):\n",
    "    payload = {\n",
    "        \"question\": question\n",
    "    }\n",
    "    response = requests.post(API_URL, json=payload)\n",
    "    return response.json()"
   ]
  },
  {
   "cell_type": "code",
   "execution_count": 8,
   "id": "810bb385-442f-4c0f-a905-5c693e47709c",
   "metadata": {
    "execution": {
     "iopub.execute_input": "2024-11-17T11:02:09.254054Z",
     "iopub.status.busy": "2024-11-17T11:02:09.253764Z",
     "iopub.status.idle": "2024-11-17T11:02:19.268714Z",
     "shell.execute_reply": "2024-11-17T11:02:19.267120Z",
     "shell.execute_reply.started": "2024-11-17T11:02:09.254029Z"
    }
   },
   "outputs": [
    {
     "data": {
      "text/plain": [
       "{'text': '这份报告的发布时间是2023年12月12日。',\n",
       " 'question': '这份报告的发布时间是什么时候',\n",
       " 'chatId': '956b7e56-cbe1-4df3-adf8-7c5f70a53432',\n",
       " 'chatMessageId': '0a3b34c9-8246-40ba-9362-243df0fa0272',\n",
       " 'isStreamValid': False,\n",
       " 'sessionId': '956b7e56-cbe1-4df3-adf8-7c5f70a53432'}"
      ]
     },
     "execution_count": 8,
     "metadata": {},
     "output_type": "execute_result"
    }
   ],
   "source": [
    "rag('这份报告的发布时间是什么时候')"
   ]
  },
  {
   "cell_type": "markdown",
   "id": "e6c18999-b35d-4b71-93df-5bd71ba6d82a",
   "metadata": {},
   "source": [
    "# 批量预测"
   ]
  },
  {
   "cell_type": "code",
   "execution_count": 9,
   "id": "e133fcfc-d0d1-4ffb-8818-436a5555ea51",
   "metadata": {
    "execution": {
     "iopub.execute_input": "2024-11-17T11:02:23.851289Z",
     "iopub.status.busy": "2024-11-17T11:02:23.850480Z",
     "iopub.status.idle": "2024-11-17T11:21:00.343381Z",
     "shell.execute_reply": "2024-11-17T11:21:00.342589Z",
     "shell.execute_reply.started": "2024-11-17T11:02:23.851219Z"
    }
   },
   "outputs": [
    {
     "data": {
      "application/vnd.jupyter.widget-view+json": {
       "model_id": "f347e1b0f403402eb47cc9025e9851ea",
       "version_major": 2,
       "version_minor": 0
      },
      "text/plain": [
       "  0%|          | 0/100 [00:00<?, ?it/s]"
      ]
     },
     "metadata": {},
     "output_type": "display_data"
    }
   ],
   "source": [
    "from tqdm.auto import tqdm\n",
    "\n",
    "answer_dict = {}\n",
    "for idx, row in tqdm(prediction_df.iterrows(), total=len(prediction_df)):\n",
    "    uuid = row['uuid']\n",
    "    question = row['question']\n",
    "    raw_resp = rag(question)\n",
    "\n",
    "    answer_dict[question] = {\n",
    "        'uuid': uuid,\n",
    "        'ref_answer': row['ref_answer'],\n",
    "        'gen_answer': raw_resp['text']\n",
    "    }"
   ]
  },
  {
   "cell_type": "code",
   "execution_count": 10,
   "id": "7416c321-1b70-47ee-9968-d1fac2af53c4",
   "metadata": {
    "execution": {
     "iopub.execute_input": "2024-11-17T12:23:11.533802Z",
     "iopub.status.busy": "2024-11-17T12:23:11.533250Z",
     "iopub.status.idle": "2024-11-17T12:23:11.539772Z",
     "shell.execute_reply": "2024-11-17T12:23:11.539447Z",
     "shell.execute_reply.started": "2024-11-17T12:23:11.533752Z"
    }
   },
   "outputs": [],
   "source": [
    "prediction_df.loc[:, 'gen_answer'] = prediction_df['question'].apply(lambda q: answer_dict[q]['gen_answer'])"
   ]
  },
  {
   "cell_type": "code",
   "execution_count": 11,
   "id": "9e543968-c408-4604-9cbc-f80c17994ac4",
   "metadata": {
    "execution": {
     "iopub.execute_input": "2024-11-17T12:23:11.792977Z",
     "iopub.status.busy": "2024-11-17T12:23:11.792226Z",
     "iopub.status.idle": "2024-11-17T12:23:11.801195Z",
     "shell.execute_reply": "2024-11-17T12:23:11.800829Z",
     "shell.execute_reply.started": "2024-11-17T12:23:11.792908Z"
    }
   },
   "outputs": [
    {
     "data": {
      "text/html": [
       "<div>\n",
       "<style scoped>\n",
       "    .dataframe tbody tr th:only-of-type {\n",
       "        vertical-align: middle;\n",
       "    }\n",
       "\n",
       "    .dataframe tbody tr th {\n",
       "        vertical-align: top;\n",
       "    }\n",
       "\n",
       "    .dataframe thead th {\n",
       "        text-align: right;\n",
       "    }\n",
       "</style>\n",
       "<table border=\"1\" class=\"dataframe\">\n",
       "  <thead>\n",
       "    <tr style=\"text-align: right;\">\n",
       "      <th></th>\n",
       "      <th>uuid</th>\n",
       "      <th>question</th>\n",
       "      <th>qa_type</th>\n",
       "      <th>ref_answer</th>\n",
       "      <th>gen_answer</th>\n",
       "    </tr>\n",
       "  </thead>\n",
       "  <tbody>\n",
       "    <tr>\n",
       "      <th>180</th>\n",
       "      <td>a52f60d5-4430-405f-a2dd-8a975ac03b91</td>\n",
       "      <td>美国金融危机风险指标的英文缩写是什么？</td>\n",
       "      <td>detailed</td>\n",
       "      <td>ROFCI</td>\n",
       "      <td>美国金融危机风险指标的英文缩写是ROFCI。</td>\n",
       "    </tr>\n",
       "    <tr>\n",
       "      <th>10</th>\n",
       "      <td>41d95288-441d-4c02-948a-6a3f0f4ef3ba</td>\n",
       "      <td>2023年全球供应链恢复情况如何？</td>\n",
       "      <td>detailed</td>\n",
       "      <td>持续恢复</td>\n",
       "      <td>2024年全球供应链和工业生产预计将在波动中复苏，但支撑2023年经济增长的需求端因素可能在...</td>\n",
       "    </tr>\n",
       "    <tr>\n",
       "      <th>365</th>\n",
       "      <td>2accb7dd-1bd7-42c9-89ad-a32b6725c95a</td>\n",
       "      <td>2024年全球资金状况和货币市场基金的前景如何？</td>\n",
       "      <td>large_context</td>\n",
       "      <td>2024年，主要经济体将结束加息周期，资金流动性会呈现“紧平衡”状态，可能导致货币市场脆弱性...</td>\n",
       "      <td>2024年全球资金状况可能呈现紧平衡状态，资金\"紧平衡\"可能导致货币市场短期资金成本大幅抬升...</td>\n",
       "    </tr>\n",
       "    <tr>\n",
       "      <th>173</th>\n",
       "      <td>05696bdf-74d8-4788-8e18-86439fa0bf0c</td>\n",
       "      <td>欧洲央行在3月16日的利率是多少百分比?</td>\n",
       "      <td>detailed</td>\n",
       "      <td>3.5%</td>\n",
       "      <td>欧洲央行在3月16日的变动后利率是3.5%。</td>\n",
       "    </tr>\n",
       "    <tr>\n",
       "      <th>19</th>\n",
       "      <td>1f406690-b478-43cd-96f8-cd77924e300e</td>\n",
       "      <td>2023年三季度英国GDP环比增速是多少？</td>\n",
       "      <td>detailed</td>\n",
       "      <td>2023年三季度英国GDP环比增速下降0.03%。</td>\n",
       "      <td>2023年三季度英国GDP环比增速为0.03%。</td>\n",
       "    </tr>\n",
       "  </tbody>\n",
       "</table>\n",
       "</div>"
      ],
      "text/plain": [
       "                                     uuid                  question  \\\n",
       "180  a52f60d5-4430-405f-a2dd-8a975ac03b91       美国金融危机风险指标的英文缩写是什么？   \n",
       "10   41d95288-441d-4c02-948a-6a3f0f4ef3ba         2023年全球供应链恢复情况如何？   \n",
       "365  2accb7dd-1bd7-42c9-89ad-a32b6725c95a  2024年全球资金状况和货币市场基金的前景如何？   \n",
       "173  05696bdf-74d8-4788-8e18-86439fa0bf0c      欧洲央行在3月16日的利率是多少百分比?   \n",
       "19   1f406690-b478-43cd-96f8-cd77924e300e     2023年三季度英国GDP环比增速是多少？   \n",
       "\n",
       "           qa_type                                         ref_answer  \\\n",
       "180       detailed                                              ROFCI   \n",
       "10        detailed                                               持续恢复   \n",
       "365  large_context  2024年，主要经济体将结束加息周期，资金流动性会呈现“紧平衡”状态，可能导致货币市场脆弱性...   \n",
       "173       detailed                                               3.5%   \n",
       "19        detailed                          2023年三季度英国GDP环比增速下降0.03%。   \n",
       "\n",
       "                                            gen_answer  \n",
       "180                             美国金融危机风险指标的英文缩写是ROFCI。  \n",
       "10   2024年全球供应链和工业生产预计将在波动中复苏，但支撑2023年经济增长的需求端因素可能在...  \n",
       "365  2024年全球资金状况可能呈现紧平衡状态，资金\"紧平衡\"可能导致货币市场短期资金成本大幅抬升...  \n",
       "173                             欧洲央行在3月16日的变动后利率是3.5%。  \n",
       "19                            2023年三季度英国GDP环比增速为0.03%。  "
      ]
     },
     "execution_count": 11,
     "metadata": {},
     "output_type": "execute_result"
    }
   ],
   "source": [
    "prediction_df.sample(5)"
   ]
  },
  {
   "cell_type": "markdown",
   "id": "326687c0-0a32-4d51-a846-b164ed11c1c6",
   "metadata": {},
   "source": [
    "# 评估"
   ]
  },
  {
   "cell_type": "code",
   "execution_count": 12,
   "id": "72104fef-3eb4-45cb-b449-c8dc71281016",
   "metadata": {
    "execution": {
     "iopub.execute_input": "2024-11-17T12:23:18.608804Z",
     "iopub.status.busy": "2024-11-17T12:23:18.608047Z",
     "iopub.status.idle": "2024-11-17T12:23:18.947362Z",
     "shell.execute_reply": "2024-11-17T12:23:18.946834Z",
     "shell.execute_reply.started": "2024-11-17T12:23:18.608736Z"
    }
   },
   "outputs": [],
   "source": [
    "from langchain_openai import ChatOpenAI\n",
    "\n",
    "judge_llm = ChatOpenAI(\n",
    "    api_key=os.environ['LLM_API_KEY'],\n",
    "    base_url=os.environ['LLM_BASE_URL'],\n",
    "    model_name='qwen2-72b-instruct',\n",
    "    temperature=0\n",
    ")\n",
    "\n",
    "import time\n",
    "\n",
    "def evaluate(prediction_df):\n",
    "    \"\"\"\n",
    "    对预测结果进行打分\n",
    "    :param prediction_df: 预测结果，需要包含问题，参考答案，生成的答案，列名分别为question, ref_answer, gen_answer\n",
    "    :return 打分模型原始返回结果\n",
    "    \"\"\"\n",
    "    prompt_tmpl = \"\"\"\n",
    "你是一个经济学博士，现在我有一系列问题，有一个助手已经对这些问题进行了回答，你需要参照参考答案，评价这个助手的回答是否正确，仅回复“是”或“否”即可，不要带其他描述性内容或无关信息。\n",
    "问题：\n",
    "<question>\n",
    "{{question}}\n",
    "</question>\n",
    "\n",
    "参考答案：\n",
    "<ref_answer>\n",
    "{{ref_answer}}\n",
    "</ref_answer>\n",
    "\n",
    "助手回答：\n",
    "<gen_answer>\n",
    "{{gen_answer}}\n",
    "</gen_answer>\n",
    "请评价：\n",
    "    \"\"\"\n",
    "    results = []\n",
    "\n",
    "    for _, row in tqdm(prediction_df.iterrows(), total=len(prediction_df)):\n",
    "        question = row['question']\n",
    "        ref_answer = row['ref_answer']\n",
    "        gen_answer = row['gen_answer']\n",
    "\n",
    "        prompt = prompt_tmpl.replace('{{question}}', question).replace('{{ref_answer}}', str(ref_answer)).replace('{{gen_answer}}', gen_answer).strip()\n",
    "        result = judge_llm.invoke(prompt).content\n",
    "        results.append(result)\n",
    "\n",
    "        time.sleep(1)\n",
    "    return results"
   ]
  },
  {
   "cell_type": "code",
   "execution_count": 13,
   "id": "6d684e34-8c42-455e-9d2d-fe05a044fbba",
   "metadata": {
    "execution": {
     "iopub.execute_input": "2024-11-17T12:23:19.437177Z",
     "iopub.status.busy": "2024-11-17T12:23:19.436977Z",
     "iopub.status.idle": "2024-11-17T12:25:42.915534Z",
     "shell.execute_reply": "2024-11-17T12:25:42.913152Z",
     "shell.execute_reply.started": "2024-11-17T12:23:19.437160Z"
    }
   },
   "outputs": [
    {
     "data": {
      "application/vnd.jupyter.widget-view+json": {
       "model_id": "549474fe5b6440ce8f584c4b7b53277c",
       "version_major": 2,
       "version_minor": 0
      },
      "text/plain": [
       "  0%|          | 0/100 [00:00<?, ?it/s]"
      ]
     },
     "metadata": {},
     "output_type": "display_data"
    }
   ],
   "source": [
    "prediction_df['raw_score'] = evaluate(prediction_df)"
   ]
  },
  {
   "cell_type": "code",
   "execution_count": 14,
   "id": "e4adb904-42e9-4735-b6a0-90c34207bbc8",
   "metadata": {
    "execution": {
     "iopub.execute_input": "2024-11-17T12:25:42.917237Z",
     "iopub.status.busy": "2024-11-17T12:25:42.917076Z",
     "iopub.status.idle": "2024-11-17T12:25:42.920488Z",
     "shell.execute_reply": "2024-11-17T12:25:42.920178Z",
     "shell.execute_reply.started": "2024-11-17T12:25:42.917223Z"
    }
   },
   "outputs": [
    {
     "data": {
      "text/plain": [
       "array(['是', '否'], dtype=object)"
      ]
     },
     "execution_count": 14,
     "metadata": {},
     "output_type": "execute_result"
    }
   ],
   "source": [
    "prediction_df['raw_score'].unique()"
   ]
  },
  {
   "cell_type": "code",
   "execution_count": 15,
   "id": "ef330e4a-cd66-409d-9233-0b0aeb1a02b4",
   "metadata": {
    "execution": {
     "iopub.execute_input": "2024-11-17T12:25:42.920992Z",
     "iopub.status.busy": "2024-11-17T12:25:42.920872Z",
     "iopub.status.idle": "2024-11-17T12:25:42.934519Z",
     "shell.execute_reply": "2024-11-17T12:25:42.933996Z",
     "shell.execute_reply.started": "2024-11-17T12:25:42.920981Z"
    }
   },
   "outputs": [],
   "source": [
    "prediction_df['score'] = (prediction_df['raw_score'] == '是').astype(int)"
   ]
  },
  {
   "cell_type": "code",
   "execution_count": 16,
   "id": "3b1ea28f-bfac-41d0-a2bb-706bfb403b05",
   "metadata": {
    "execution": {
     "iopub.execute_input": "2024-11-17T12:25:42.935531Z",
     "iopub.status.busy": "2024-11-17T12:25:42.935375Z",
     "iopub.status.idle": "2024-11-17T12:25:42.941023Z",
     "shell.execute_reply": "2024-11-17T12:25:42.940593Z",
     "shell.execute_reply.started": "2024-11-17T12:25:42.935516Z"
    }
   },
   "outputs": [
    {
     "data": {
      "text/plain": [
       "0.75"
      ]
     },
     "execution_count": 16,
     "metadata": {},
     "output_type": "execute_result"
    }
   ],
   "source": [
    "prediction_df['score'].mean()"
   ]
  },
  {
   "cell_type": "code",
   "execution_count": null,
   "id": "e1eb91d3-cc18-48a3-be05-3c5cbb6beffb",
   "metadata": {},
   "outputs": [],
   "source": []
  }
 ],
 "metadata": {
  "kernelspec": {
   "display_name": "Python 3 (ipykernel)",
   "language": "python",
   "name": "python3"
  },
  "language_info": {
   "codemirror_mode": {
    "name": "ipython",
    "version": 3
   },
   "file_extension": ".py",
   "mimetype": "text/x-python",
   "name": "python",
   "nbconvert_exporter": "python",
   "pygments_lexer": "ipython3",
   "version": "3.10.9"
  }
 },
 "nbformat": 4,
 "nbformat_minor": 5
}
